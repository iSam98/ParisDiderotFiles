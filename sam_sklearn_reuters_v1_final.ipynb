{
 "cells": [
  {
   "cell_type": "code",
   "execution_count": 1,
   "metadata": {
    "cell_id": "32e2471f-710e-4a86-bf90-84fb36b639b8",
    "deepnote_cell_height": 639,
    "deepnote_cell_type": "code",
    "deepnote_to_be_reexecuted": false,
    "execution_millis": 794,
    "execution_start": 1646874530337,
    "source_hash": "fbc6bd9d"
   },
   "outputs": [],
   "source": [
    "from sklearn.feature_extraction.text import CountVectorizer \n",
    "from sklearn.linear_model import Perceptron \n",
    "from sklearn.metrics import accuracy_score \n",
    "\n",
    "train_file = \"/work/medium.train.onedocperline\"\n",
    "test_file = \"/work/medium.test.onedocperline\"\n",
    "\n",
    "def loadsample(file_name):\n",
    "    f = open(file_name,\"r\", encoding=\"utf-8\")\n",
    "    contents = f.read()\n",
    "\n",
    "    f.close() \n",
    "\n",
    "    cont = [line.split('\\t') for line in contents.splitlines()] \n",
    "    new_cont = [] \n",
    "    new_class = []\n",
    "\n",
    "    for i in cont:\n",
    "        i_class = i[0].split(\",\") \n",
    "        for j in i_class: \n",
    "            #new_cont.append([j, i[1]])\n",
    "            new_cont.append(i[1])\n",
    "            new_class.append(j) \n",
    "\n",
    "    return new_cont,new_class \n",
    "\n",
    "Xtrain, Ytrain = loadsample(train_file) \n",
    "Xtest, Ytest = loadsample(test_file) "
   ]
  },
  {
   "cell_type": "code",
   "execution_count": 2,
   "metadata": {
    "cell_id": "00001-11b522b5-1f45-43bc-8cc8-25090adcafaa",
    "deepnote_cell_height": 117,
    "deepnote_cell_type": "code",
    "deepnote_output_heights": [
     21.1875
    ],
    "deepnote_to_be_reexecuted": false,
    "execution_millis": 499,
    "execution_start": 1646874531155,
    "source_hash": "240ea4e6"
   },
   "outputs": [],
   "source": [
    "vectorizer = CountVectorizer() \n",
    "X_train = vectorizer.fit_transform(Xtrain) \n",
    "X_test = vectorizer.transform(Xtest)"
   ]
  },
  {
   "cell_type": "code",
   "execution_count": 3,
   "metadata": {
    "cell_id": "00002-8644ce51-0fc6-47da-a6cb-941f84903e3d",
    "deepnote_cell_height": 233.375,
    "deepnote_cell_type": "code",
    "deepnote_output_heights": [
     136.375
    ],
    "deepnote_to_be_reexecuted": false,
    "execution_millis": 85,
    "execution_start": 1646874531663,
    "source_hash": "3a764059"
   },
   "outputs": [
    {
     "data": {
      "text/plain": [
       "array([[0, 0, 0, ..., 0, 0, 0],\n",
       "       [0, 0, 0, ..., 0, 0, 0],\n",
       "       [0, 0, 0, ..., 0, 0, 0],\n",
       "       ...,\n",
       "       [0, 0, 0, ..., 0, 0, 0],\n",
       "       [0, 3, 0, ..., 0, 0, 0],\n",
       "       [0, 0, 0, ..., 0, 0, 0]])"
      ]
     },
     "execution_count": 3,
     "metadata": {},
     "output_type": "execute_result"
    }
   ],
   "source": [
    "X_train.toarray()"
   ]
  },
  {
   "cell_type": "code",
   "execution_count": 4,
   "metadata": {
    "cell_id": "e6a641bf-1d61-45e1-8c04-b385a9a263b1",
    "deepnote_cell_height": 136.1875,
    "deepnote_cell_type": "code",
    "deepnote_output_heights": [
     21.1875
    ],
    "deepnote_to_be_reexecuted": false,
    "execution_millis": 965,
    "execution_start": 1646874531753,
    "source_hash": "e879850",
    "tags": []
   },
   "outputs": [
    {
     "data": {
      "text/plain": [
       "Perceptron()"
      ]
     },
     "execution_count": 4,
     "metadata": {},
     "output_type": "execute_result"
    }
   ],
   "source": [
    "clf = Perceptron()\n",
    "clf.fit(X_train, Ytrain) "
   ]
  },
  {
   "cell_type": "code",
   "execution_count": 5,
   "metadata": {
    "cell_id": "86f15767-7c00-445f-b83a-d17ef313eb6a",
    "deepnote_cell_height": 81,
    "deepnote_cell_type": "code",
    "deepnote_output_heights": [
     611
    ],
    "deepnote_to_be_reexecuted": false,
    "execution_millis": 10,
    "execution_start": 1646874532731,
    "source_hash": "8afbadf",
    "tags": []
   },
   "outputs": [],
   "source": [
    "Ypred = clf.predict(X_test)"
   ]
  },
  {
   "cell_type": "code",
   "execution_count": 6,
   "metadata": {
    "cell_id": "4115e847-c536-4dfb-961d-ef4ace9e31f7",
    "deepnote_cell_height": 118.1875,
    "deepnote_cell_type": "code",
    "deepnote_output_heights": [
     21.1875
    ],
    "deepnote_to_be_reexecuted": false,
    "execution_millis": 392,
    "execution_start": 1646874532761,
    "source_hash": "2d30c885",
    "tags": []
   },
   "outputs": [
    {
     "data": {
      "text/plain": [
       "0.615686274509804"
      ]
     },
     "execution_count": 6,
     "metadata": {},
     "output_type": "execute_result"
    }
   ],
   "source": [
    "clf.score(X_test, Ytest)"
   ]
  },
  {
   "cell_type": "code",
   "execution_count": 7,
   "metadata": {
    "cell_id": "8965d993-4ba0-45aa-9d81-264537e6eae2",
    "deepnote_cell_height": 118.1875,
    "deepnote_cell_type": "code",
    "deepnote_output_heights": [
     21.1875
    ],
    "deepnote_to_be_reexecuted": false,
    "execution_millis": 353,
    "execution_start": 1646874532803,
    "source_hash": "a322ffdb",
    "tags": []
   },
   "outputs": [
    {
     "data": {
      "text/plain": [
       "0.615686274509804"
      ]
     },
     "execution_count": 7,
     "metadata": {},
     "output_type": "execute_result"
    }
   ],
   "source": [
    "accuracy_score(Ytest, Ypred)"
   ]
  },
  {
   "cell_type": "code",
   "execution_count": 8,
   "metadata": {
    "cell_id": "2e583a2c-3199-42c2-8b70-97f127aea6c4",
    "deepnote_cell_height": 118.1875,
    "deepnote_cell_type": "code",
    "deepnote_output_heights": [
     21.1875
    ],
    "deepnote_to_be_reexecuted": false,
    "execution_millis": 54,
    "execution_start": 1646874676376,
    "source_hash": "e266199a",
    "tags": []
   },
   "outputs": [
    {
     "data": {
      "text/plain": [
       "0.7530571992110454"
      ]
     },
     "execution_count": 8,
     "metadata": {},
     "output_type": "execute_result"
    }
   ],
   "source": [
    "accuracy_score(Ytrain, clf.predict(X_train))"
   ]
  },
  {
   "cell_type": "code",
   "execution_count": 10,
   "metadata": {
    "cell_id": "dae9c916-acfd-4959-84fd-647e4e393d97",
    "deepnote_cell_height": 154.1875,
    "deepnote_cell_type": "code",
    "deepnote_output_heights": [
     21.1875
    ],
    "deepnote_to_be_reexecuted": false,
    "execution_millis": 27334,
    "execution_start": 1646875143607,
    "source_hash": "592e6950",
    "tags": []
   },
   "outputs": [
    {
     "data": {
      "text/plain": [
       "SVC()"
      ]
     },
     "execution_count": 10,
     "metadata": {},
     "output_type": "execute_result"
    }
   ],
   "source": [
    "from sklearn import svm \n",
    "clf1 = svm.SVC()\n",
    "clf1.fit(X_train, Ytrain)"
   ]
  },
  {
   "cell_type": "code",
   "execution_count": 11,
   "metadata": {
    "cell_id": "290737a3-6b44-4efb-b0ff-ef120e8e709b",
    "deepnote_cell_height": 118.1875,
    "deepnote_cell_type": "code",
    "deepnote_output_heights": [
     21.1875
    ],
    "deepnote_to_be_reexecuted": false,
    "execution_millis": 893,
    "execution_start": 1646875316396,
    "source_hash": "7876330d",
    "tags": []
   },
   "outputs": [
    {
     "data": {
      "text/plain": [
       "0.596078431372549"
      ]
     },
     "execution_count": 11,
     "metadata": {},
     "output_type": "execute_result"
    }
   ],
   "source": [
    "clf1.score(X_test, Ytest)"
   ]
  },
  {
   "cell_type": "code",
   "execution_count": 16,
   "metadata": {
    "cell_id": "d06e1b4c-78da-4348-b7a0-9f28d30b66bb",
    "deepnote_cell_height": 118.1875,
    "deepnote_cell_type": "code",
    "deepnote_output_heights": [
     21.1875
    ],
    "deepnote_to_be_reexecuted": false,
    "execution_millis": 904,
    "execution_start": 1646875715289,
    "source_hash": "d3ab5337",
    "tags": []
   },
   "outputs": [
    {
     "data": {
      "text/plain": [
       "0.596078431372549"
      ]
     },
     "execution_count": 16,
     "metadata": {},
     "output_type": "execute_result"
    }
   ],
   "source": [
    "accuracy_score(Ytest, clf1.predict(X_test))"
   ]
  },
  {
   "cell_type": "code",
   "execution_count": 14,
   "metadata": {
    "cell_id": "9fbf8ca5-d039-4661-9416-0dc781e17917",
    "deepnote_cell_height": 118.1875,
    "deepnote_cell_type": "code",
    "deepnote_output_heights": [
     21.1875
    ],
    "deepnote_to_be_reexecuted": false,
    "execution_millis": 8811,
    "execution_start": 1646875538281,
    "source_hash": "63ae720b",
    "tags": []
   },
   "outputs": [
    {
     "data": {
      "text/plain": [
       "0.7057199211045365"
      ]
     },
     "execution_count": 14,
     "metadata": {},
     "output_type": "execute_result"
    }
   ],
   "source": [
    "accuracy_score(Ytrain, clf1.predict(X_train))"
   ]
  },
  {
   "cell_type": "code",
   "execution_count": 20,
   "metadata": {
    "cell_id": "c0ebe927-d044-4b4b-aec8-a2c9aafee0e9",
    "deepnote_cell_height": 392.03125,
    "deepnote_cell_type": "code",
    "deepnote_output_heights": [
     null,
     78.78125
    ],
    "deepnote_to_be_reexecuted": false,
    "execution_millis": 1630807,
    "execution_start": 1646877672435,
    "source_hash": "54550ce0",
    "tags": []
   },
   "outputs": [
    {
     "name": "stdout",
     "output_type": "stream",
     "text": [
      "Fitting 5 folds for each of 20 candidates, totalling 100 fits\n",
      "/shared-libs/python3.7/py/lib/python3.7/site-packages/sklearn/model_selection/_split.py:680: UserWarning: The least populated class in y has only 1 members, which is less than n_splits=5.\n",
      "  UserWarning,\n"
     ]
    },
    {
     "data": {
      "text/plain": [
       "GridSearchCV(estimator=SVC(), n_jobs=-1,\n",
       "             param_grid={'C': [0.001, 0.01, 0.1, 1, 10],\n",
       "                         'kernel': ['linear', 'poly', 'rbf', 'sigmoid']},\n",
       "             verbose=3)"
      ]
     },
     "execution_count": 20,
     "metadata": {},
     "output_type": "execute_result"
    }
   ],
   "source": [
    "from sklearn.model_selection import GridSearchCV \n",
    "\n",
    "clf2 = GridSearchCV(svm.SVC(), param_grid={\n",
    "    \"C\":[10 ** i for i in range(-3, 2)],\n",
    "    \"kernel\":[\"linear\", \"poly\", \"rbf\", \"sigmoid\"],\n",
    "    }, verbose = 3, n_jobs = -1)\n",
    "clf2.fit(X_train, Ytrain)\n"
   ]
  },
  {
   "cell_type": "code",
   "execution_count": 28,
   "metadata": {
    "cell_id": "ebe6b2c5-f197-41ad-8424-4ccafbebc34b",
    "deepnote_cell_height": 118.1875,
    "deepnote_cell_type": "code",
    "deepnote_output_heights": [
     21.1875
    ],
    "deepnote_to_be_reexecuted": false,
    "execution_millis": 30,
    "execution_start": 1646879568869,
    "source_hash": "93291d2a",
    "tags": []
   },
   "outputs": [
    {
     "data": {
      "text/plain": [
       "{'C': 0.1, 'kernel': 'linear'}"
      ]
     },
     "execution_count": 28,
     "metadata": {},
     "output_type": "execute_result"
    }
   ],
   "source": [
    "clf2.best_params_"
   ]
  },
  {
   "cell_type": "code",
   "execution_count": 29,
   "metadata": {
    "cell_id": "bee46763-1455-4471-a781-202a925ad03c",
    "deepnote_cell_height": 66,
    "deepnote_cell_type": "code",
    "deepnote_to_be_reexecuted": false,
    "execution_millis": 28,
    "execution_start": 1646879578432,
    "source_hash": "7cc097a0",
    "tags": []
   },
   "outputs": [
    {
     "data": {
      "text/plain": [
       "0.6568047337278107"
      ]
     },
     "execution_count": 29,
     "metadata": {},
     "output_type": "execute_result"
    }
   ],
   "source": [
    "clf2.best_score_"
   ]
  },
  {
   "cell_type": "code",
   "execution_count": 21,
   "metadata": {
    "cell_id": "09e243bf-e85d-4b93-81b6-cc15681eb2ec",
    "deepnote_cell_height": 81,
    "deepnote_cell_type": "code",
    "deepnote_to_be_reexecuted": false,
    "execution_millis": 2,
    "execution_start": 1646879364343,
    "source_hash": "754067ae",
    "tags": []
   },
   "outputs": [],
   "source": [
    "clf_final=clf2.best_estimator_"
   ]
  },
  {
   "cell_type": "code",
   "execution_count": 24,
   "metadata": {
    "cell_id": "4102dde9-9e70-4d39-a5c2-6e49714f5864",
    "deepnote_cell_height": 118.1875,
    "deepnote_cell_type": "code",
    "deepnote_output_heights": [
     21.1875
    ],
    "deepnote_to_be_reexecuted": false,
    "execution_millis": 1346,
    "execution_start": 1646879430611,
    "source_hash": "e7cf8f66",
    "tags": []
   },
   "outputs": [
    {
     "data": {
      "text/plain": [
       "0.6549019607843137"
      ]
     },
     "execution_count": 24,
     "metadata": {},
     "output_type": "execute_result"
    }
   ],
   "source": [
    "clf_final.score(X_test,Ytest)"
   ]
  },
  {
   "cell_type": "code",
   "execution_count": 25,
   "metadata": {
    "cell_id": "478c743a-1ee1-4679-9c0b-1a8fd99101b1",
    "deepnote_cell_height": 153,
    "deepnote_cell_type": "code",
    "deepnote_to_be_reexecuted": false,
    "execution_millis": 26,
    "execution_start": 1646879477737,
    "source_hash": "b69ea087",
    "tags": []
   },
   "outputs": [],
   "source": [
    "from pickle import load, dump\n",
    "\n",
    "f=open(\"svm_tuned\",\"wb\")\n",
    "dump(clf_final,f)\n",
    "f.close()"
   ]
  },
  {
   "cell_type": "code",
   "execution_count": 26,
   "metadata": {
    "cell_id": "76118ca6-9693-48ab-85ae-913a8b76a545",
    "deepnote_cell_height": 117,
    "deepnote_cell_type": "code",
    "deepnote_to_be_reexecuted": false,
    "execution_millis": 36,
    "execution_start": 1646879512621,
    "source_hash": "bf628a81",
    "tags": []
   },
   "outputs": [],
   "source": [
    "f=open(\"svm_tuned\",\"rb\")\n",
    "clf_test=load(f)\n",
    "f.close()"
   ]
  },
  {
   "cell_type": "code",
   "execution_count": 27,
   "metadata": {
    "cell_id": "2be4d314-5eb6-403c-865a-840ad5ad2c42",
    "deepnote_cell_height": 118.1875,
    "deepnote_cell_type": "code",
    "deepnote_output_heights": [
     21.1875
    ],
    "deepnote_to_be_reexecuted": false,
    "execution_millis": 1507,
    "execution_start": 1646879529017,
    "source_hash": "f51197be",
    "tags": []
   },
   "outputs": [
    {
     "data": {
      "text/plain": [
       "0.6549019607843137"
      ]
     },
     "execution_count": 27,
     "metadata": {},
     "output_type": "execute_result"
    }
   ],
   "source": [
    "clf_test.score(X_test,Ytest)"
   ]
  },
  {
   "cell_type": "code",
   "execution_count": null,
   "metadata": {
    "cell_id": "47fae57d-95ac-4ad3-9715-f385a136b2d8",
    "deepnote_cell_height": 66,
    "deepnote_cell_type": "code",
    "tags": []
   },
   "outputs": [],
   "source": []
  }
 ],
 "metadata": {
  "deepnote": {},
  "deepnote_execution_queue": [],
  "deepnote_notebook_id": "05e0f809-05c5-46da-80e1-1f1e27f8bcd1",
  "kernelspec": {
   "display_name": "Python 3",
   "language": "python",
   "name": "python3"
  },
  "language_info": {
   "codemirror_mode": {
    "name": "ipython",
    "version": 3
   },
   "file_extension": ".py",
   "mimetype": "text/x-python",
   "name": "python",
   "nbconvert_exporter": "python",
   "pygments_lexer": "ipython3",
   "version": "3.7.6"
  }
 },
 "nbformat": 4,
 "nbformat_minor": 4
}
